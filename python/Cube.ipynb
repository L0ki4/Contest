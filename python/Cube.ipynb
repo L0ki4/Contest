{
 "cells": [
  {
   "cell_type": "code",
   "execution_count": 2,
   "metadata": {
    "collapsed": true
   },
   "outputs": [],
   "source": [
    "import pandas as pd\n",
    "import numpy as np\n",
    "import matplotlib.pyplot as plt\n",
    "import scipy.stats as sts\n",
    "from scipy import optimize\n",
    "%matplotlib inline"
   ]
  },
  {
   "cell_type": "code",
   "execution_count": 16,
   "metadata": {
    "collapsed": false,
    "scrolled": true
   },
   "outputs": [
    {
     "name": "stdout",
     "output_type": "stream",
     "text": [
      "input cube casts(>1): \n",
      "5\n",
      "input value of experiments(*1000):\n",
      "20\n",
      "\n",
      "\n",
      "mean value:  15 \n",
      "\n"
     ]
    },
    {
     "data": {
      "text/plain": [
       "<matplotlib.text.Text at 0xba674a8>"
      ]
     },
     "execution_count": 16,
     "metadata": {},
     "output_type": "execute_result"
    },
    {
     "data": {
      "image/png": "[encoded data removed]",
      "text/plain": [
       "<matplotlib.figure.Figure at 0xcd0dfd0>"
      ]
     },
     "metadata": {},
     "output_type": "display_data"
    }
   ],
   "source": [
    "elements = np.array([1, 2, 3, 4, 5, 6])\n",
    "probabilities = [1./6, 1./6, 1./6, 1./6, 1./6, 1./6]\n",
    "\n",
    "k = 0;\n",
    "results=[]\n",
    "\n",
    "print('input cube casts(>1): ')\n",
    "cube_casts = input()\n",
    "print('input value of experiments(*1000):')\n",
    "experiments = input()* 1000\n",
    "print \"\\n\"\n",
    "\n",
    "amount = np.zeros(6*cube_casts - 1, dtype = int)\n",
    "for j in np.linspace(1, experiments, experiments, dtype = int):\n",
    "    for i in range(cube_casts):\n",
    "        k += np.random.choice(elements, 1, p=probabilities)\n",
    "    results.append(k)\n",
    "    k=0\n",
    "    \n",
    "results = np.array(results)\n",
    "x = np.linspace(2, 6*cube_casts, 6*cube_casts - 1, dtype = int)\n",
    "\n",
    "for element in results:\n",
    "    for i in range(6*cube_casts - 1):\n",
    "        if element == i+2:\n",
    "            amount[i] += 1\n",
    "      \n",
    "for i in range(6*cube_casts - 1):\n",
    "    if amount[i] == np.amax(amount):\n",
    "        k = i;\n",
    "\n",
    "print 'mean value: ', k,\"\\n\"\n",
    "amount = amount / (experiments * 1.)         \n",
    "\n",
    "\n",
    "plt.bar(x, amount, 1, color=\"blue\")\n",
    "\n",
    "#plt.step(x, amount)\n",
    "plt.xlabel('values')\n",
    "plt.ylabel('Probability')\n",
    "plt.title('Distribution')"
   ]
  },
  {
   "cell_type": "code",
   "execution_count": 17,
   "metadata": {
    "collapsed": false,
    "scrolled": true
   },
   "outputs": [
    {
     "data": {
      "text/plain": [
       "<matplotlib.text.Text at 0xda47fd0>"
      ]
     },
     "execution_count": 17,
     "metadata": {},
     "output_type": "execute_result"
    },
    {
     "data": {
      "image/png": "[encoded data removed]",
      "text/plain": [
       "<matplotlib.figure.Figure at 0xba53cf8>"
      ]
     },
     "metadata": {},
     "output_type": "display_data"
    }
   ],
   "source": [
    "plt.plot(x, amount)\n",
    "plt.xlabel('values')\n",
    "plt.ylabel('Probability')\n",
    "plt.title('Distribution')"
   ]
  }
 ],
 "metadata": {
  "kernelspec": {
   "display_name": "Python 2",
   "language": "python",
   "name": "python2"
  },
  "language_info": {
   "codemirror_mode": {
    "name": "ipython",
    "version": 2
   },
   "file_extension": ".py",
   "mimetype": "text/x-python",
   "name": "python",
   "nbconvert_exporter": "python",
   "pygments_lexer": "ipython2",
   "version": "2.7.13"
  }
 },
 "nbformat": 4,
 "nbformat_minor": 2
}
